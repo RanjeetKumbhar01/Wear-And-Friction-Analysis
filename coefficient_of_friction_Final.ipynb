{
  "cells": [
    {
      "cell_type": "code",
      "execution_count": null,
      "id": "1004cd81",
      "metadata": {
        "id": "1004cd81"
      },
      "outputs": [],
      "source": [
        "import math\n",
        "import os\n",
        "from tensorflow import keras\n",
        "import pandas as pd\n",
        "import tensorflow as tf\n",
        "import matplotlib.pyplot as plt\n",
        "from tensorflow.keras import Model\n",
        "from tensorflow.keras import Sequential\n",
        "from tensorflow.keras.optimizers import Adam\n",
        "from sklearn.preprocessing import StandardScaler\n",
        "from tensorflow.keras.layers import Dense, Dropout\n",
        "from sklearn.model_selection import train_test_split\n",
        "from tensorflow.keras.losses import MeanSquaredLogarithmicError\n",
        "from sklearn.preprocessing import StandardScaler"
      ]
    },
    {
      "cell_type": "code",
      "source": [
        "from google.colab import drive\n",
        "drive.mount('/content/drive')"
      ],
      "metadata": {
        "colab": {
          "base_uri": "https://localhost:8080/"
        },
        "id": "TDqwNvzUOtBD",
        "outputId": "1ec0a18e-cd7b-4b74-f4cc-6b690201ff29"
      },
      "id": "TDqwNvzUOtBD",
      "execution_count": null,
      "outputs": [
        {
          "output_type": "stream",
          "name": "stdout",
          "text": [
            "Mounted at /content/drive\n"
          ]
        }
      ]
    },
    {
      "cell_type": "code",
      "execution_count": null,
      "id": "1376b96b",
      "metadata": {
        "id": "1376b96b"
      },
      "outputs": [],
      "source": [
        "import pandas as pd\n",
        "import numpy as np\n",
        "import matplotlib.pyplot as plt\n",
        "import seaborn as sns\n",
        "%matplotlib inline"
      ]
    },
    {
      "cell_type": "code",
      "execution_count": null,
      "id": "355bac2a",
      "metadata": {
        "id": "355bac2a"
      },
      "outputs": [],
      "source": [
        "df = pd.read_csv('/content/dataset_ML - Sheet1.csv')"
      ]
    },
    {
      "cell_type": "code",
      "execution_count": null,
      "id": "cc0cb826",
      "metadata": {
        "colab": {
          "base_uri": "https://localhost:8080/",
          "height": 300
        },
        "id": "cc0cb826",
        "outputId": "5b23b6b7-6b32-4fe5-8a93-6e625857bde4"
      },
      "outputs": [
        {
          "output_type": "execute_result",
          "data": {
            "text/plain": [
              "             speed         load         time           cf\n",
              "count  3230.000000  3230.000000  3230.000000  3230.000000\n",
              "mean    778.173375    11.668731   499.982615     0.300914\n",
              "std     248.445912     4.806750   354.141716     0.111396\n",
              "min     500.000000     5.000000     0.000000     0.000390\n",
              "25%     500.000000    10.000000   200.763750     0.239162\n",
              "50%    1000.000000    10.000000   495.792500     0.310763\n",
              "75%    1000.000000    15.000000   732.232500     0.391873\n",
              "max    1000.000000    20.000000  1500.110000     0.511881"
            ],
            "text/html": [
              "\n",
              "  <div id=\"df-2d98893f-7d61-45ad-abc9-caa690c42e7c\">\n",
              "    <div class=\"colab-df-container\">\n",
              "      <div>\n",
              "<style scoped>\n",
              "    .dataframe tbody tr th:only-of-type {\n",
              "        vertical-align: middle;\n",
              "    }\n",
              "\n",
              "    .dataframe tbody tr th {\n",
              "        vertical-align: top;\n",
              "    }\n",
              "\n",
              "    .dataframe thead th {\n",
              "        text-align: right;\n",
              "    }\n",
              "</style>\n",
              "<table border=\"1\" class=\"dataframe\">\n",
              "  <thead>\n",
              "    <tr style=\"text-align: right;\">\n",
              "      <th></th>\n",
              "      <th>speed</th>\n",
              "      <th>load</th>\n",
              "      <th>time</th>\n",
              "      <th>cf</th>\n",
              "    </tr>\n",
              "  </thead>\n",
              "  <tbody>\n",
              "    <tr>\n",
              "      <th>count</th>\n",
              "      <td>3230.000000</td>\n",
              "      <td>3230.000000</td>\n",
              "      <td>3230.000000</td>\n",
              "      <td>3230.000000</td>\n",
              "    </tr>\n",
              "    <tr>\n",
              "      <th>mean</th>\n",
              "      <td>778.173375</td>\n",
              "      <td>11.668731</td>\n",
              "      <td>499.982615</td>\n",
              "      <td>0.300914</td>\n",
              "    </tr>\n",
              "    <tr>\n",
              "      <th>std</th>\n",
              "      <td>248.445912</td>\n",
              "      <td>4.806750</td>\n",
              "      <td>354.141716</td>\n",
              "      <td>0.111396</td>\n",
              "    </tr>\n",
              "    <tr>\n",
              "      <th>min</th>\n",
              "      <td>500.000000</td>\n",
              "      <td>5.000000</td>\n",
              "      <td>0.000000</td>\n",
              "      <td>0.000390</td>\n",
              "    </tr>\n",
              "    <tr>\n",
              "      <th>25%</th>\n",
              "      <td>500.000000</td>\n",
              "      <td>10.000000</td>\n",
              "      <td>200.763750</td>\n",
              "      <td>0.239162</td>\n",
              "    </tr>\n",
              "    <tr>\n",
              "      <th>50%</th>\n",
              "      <td>1000.000000</td>\n",
              "      <td>10.000000</td>\n",
              "      <td>495.792500</td>\n",
              "      <td>0.310763</td>\n",
              "    </tr>\n",
              "    <tr>\n",
              "      <th>75%</th>\n",
              "      <td>1000.000000</td>\n",
              "      <td>15.000000</td>\n",
              "      <td>732.232500</td>\n",
              "      <td>0.391873</td>\n",
              "    </tr>\n",
              "    <tr>\n",
              "      <th>max</th>\n",
              "      <td>1000.000000</td>\n",
              "      <td>20.000000</td>\n",
              "      <td>1500.110000</td>\n",
              "      <td>0.511881</td>\n",
              "    </tr>\n",
              "  </tbody>\n",
              "</table>\n",
              "</div>\n",
              "      <button class=\"colab-df-convert\" onclick=\"convertToInteractive('df-2d98893f-7d61-45ad-abc9-caa690c42e7c')\"\n",
              "              title=\"Convert this dataframe to an interactive table.\"\n",
              "              style=\"display:none;\">\n",
              "        \n",
              "  <svg xmlns=\"http://www.w3.org/2000/svg\" height=\"24px\"viewBox=\"0 0 24 24\"\n",
              "       width=\"24px\">\n",
              "    <path d=\"M0 0h24v24H0V0z\" fill=\"none\"/>\n",
              "    <path d=\"M18.56 5.44l.94 2.06.94-2.06 2.06-.94-2.06-.94-.94-2.06-.94 2.06-2.06.94zm-11 1L8.5 8.5l.94-2.06 2.06-.94-2.06-.94L8.5 2.5l-.94 2.06-2.06.94zm10 10l.94 2.06.94-2.06 2.06-.94-2.06-.94-.94-2.06-.94 2.06-2.06.94z\"/><path d=\"M17.41 7.96l-1.37-1.37c-.4-.4-.92-.59-1.43-.59-.52 0-1.04.2-1.43.59L10.3 9.45l-7.72 7.72c-.78.78-.78 2.05 0 2.83L4 21.41c.39.39.9.59 1.41.59.51 0 1.02-.2 1.41-.59l7.78-7.78 2.81-2.81c.8-.78.8-2.07 0-2.86zM5.41 20L4 18.59l7.72-7.72 1.47 1.35L5.41 20z\"/>\n",
              "  </svg>\n",
              "      </button>\n",
              "      \n",
              "  <style>\n",
              "    .colab-df-container {\n",
              "      display:flex;\n",
              "      flex-wrap:wrap;\n",
              "      gap: 12px;\n",
              "    }\n",
              "\n",
              "    .colab-df-convert {\n",
              "      background-color: #E8F0FE;\n",
              "      border: none;\n",
              "      border-radius: 50%;\n",
              "      cursor: pointer;\n",
              "      display: none;\n",
              "      fill: #1967D2;\n",
              "      height: 32px;\n",
              "      padding: 0 0 0 0;\n",
              "      width: 32px;\n",
              "    }\n",
              "\n",
              "    .colab-df-convert:hover {\n",
              "      background-color: #E2EBFA;\n",
              "      box-shadow: 0px 1px 2px rgba(60, 64, 67, 0.3), 0px 1px 3px 1px rgba(60, 64, 67, 0.15);\n",
              "      fill: #174EA6;\n",
              "    }\n",
              "\n",
              "    [theme=dark] .colab-df-convert {\n",
              "      background-color: #3B4455;\n",
              "      fill: #D2E3FC;\n",
              "    }\n",
              "\n",
              "    [theme=dark] .colab-df-convert:hover {\n",
              "      background-color: #434B5C;\n",
              "      box-shadow: 0px 1px 3px 1px rgba(0, 0, 0, 0.15);\n",
              "      filter: drop-shadow(0px 1px 2px rgba(0, 0, 0, 0.3));\n",
              "      fill: #FFFFFF;\n",
              "    }\n",
              "  </style>\n",
              "\n",
              "      <script>\n",
              "        const buttonEl =\n",
              "          document.querySelector('#df-2d98893f-7d61-45ad-abc9-caa690c42e7c button.colab-df-convert');\n",
              "        buttonEl.style.display =\n",
              "          google.colab.kernel.accessAllowed ? 'block' : 'none';\n",
              "\n",
              "        async function convertToInteractive(key) {\n",
              "          const element = document.querySelector('#df-2d98893f-7d61-45ad-abc9-caa690c42e7c');\n",
              "          const dataTable =\n",
              "            await google.colab.kernel.invokeFunction('convertToInteractive',\n",
              "                                                     [key], {});\n",
              "          if (!dataTable) return;\n",
              "\n",
              "          const docLinkHtml = 'Like what you see? Visit the ' +\n",
              "            '<a target=\"_blank\" href=https://colab.research.google.com/notebooks/data_table.ipynb>data table notebook</a>'\n",
              "            + ' to learn more about interactive tables.';\n",
              "          element.innerHTML = '';\n",
              "          dataTable['output_type'] = 'display_data';\n",
              "          await google.colab.output.renderOutput(dataTable, element);\n",
              "          const docLink = document.createElement('div');\n",
              "          docLink.innerHTML = docLinkHtml;\n",
              "          element.appendChild(docLink);\n",
              "        }\n",
              "      </script>\n",
              "    </div>\n",
              "  </div>\n",
              "  "
            ]
          },
          "metadata": {},
          "execution_count": 8
        }
      ],
      "source": [
        "df.describe()"
      ]
    },
    {
      "cell_type": "code",
      "source": [
        "df.load.unique()"
      ],
      "metadata": {
        "colab": {
          "base_uri": "https://localhost:8080/"
        },
        "id": "VnF39eJa5CAq",
        "outputId": "7c4b4ec2-7c2a-4003-9ce8-275f62f10208"
      },
      "id": "VnF39eJa5CAq",
      "execution_count": null,
      "outputs": [
        {
          "output_type": "execute_result",
          "data": {
            "text/plain": [
              "array([ 5, 10, 15, 20])"
            ]
          },
          "metadata": {},
          "execution_count": 36
        }
      ]
    },
    {
      "cell_type": "markdown",
      "source": [
        "cf = coefficient of friction"
      ],
      "metadata": {
        "id": "TqmflWLKtw5o"
      },
      "id": "TqmflWLKtw5o"
    },
    {
      "cell_type": "code",
      "execution_count": null,
      "id": "160213f1",
      "metadata": {
        "id": "160213f1",
        "colab": {
          "base_uri": "https://localhost:8080/"
        },
        "outputId": "ffb071d3-62e0-425e-8643-5ae5f6438856"
      },
      "outputs": [
        {
          "output_type": "stream",
          "name": "stdout",
          "text": [
            "<class 'pandas.core.frame.DataFrame'>\n",
            "RangeIndex: 3230 entries, 0 to 3229\n",
            "Data columns (total 4 columns):\n",
            " #   Column  Non-Null Count  Dtype  \n",
            "---  ------  --------------  -----  \n",
            " 0   speed   3230 non-null   int64  \n",
            " 1   load    3230 non-null   int64  \n",
            " 2   time    3230 non-null   float64\n",
            " 3   cf      3230 non-null   float64\n",
            "dtypes: float64(2), int64(2)\n",
            "memory usage: 101.1 KB\n"
          ]
        }
      ],
      "source": [
        "df.info()"
      ]
    },
    {
      "cell_type": "code",
      "execution_count": null,
      "id": "358d001d",
      "metadata": {
        "colab": {
          "base_uri": "https://localhost:8080/"
        },
        "id": "358d001d",
        "outputId": "a698420e-98c2-4224-ddb3-d2b7c1a795f9"
      },
      "outputs": [
        {
          "output_type": "execute_result",
          "data": {
            "text/plain": [
              "speed    0\n",
              "load     0\n",
              "time     0\n",
              "cf       0\n",
              "dtype: int64"
            ]
          },
          "metadata": {},
          "execution_count": 10
        }
      ],
      "source": [
        "df.isna().sum()"
      ]
    },
    {
      "cell_type": "code",
      "source": [
        "sns.pairplot(df)"
      ],
      "metadata": {
        "colab": {
          "base_uri": "https://localhost:8080/",
          "height": 743
        },
        "id": "LZK59PDb9AQH",
        "outputId": "75b3baa4-0062-453b-d343-e61578c588b1"
      },
      "id": "LZK59PDb9AQH",
      "execution_count": null,
      "outputs": [
        {
          "output_type": "execute_result",
          "data": {
            "text/plain": [
              "<seaborn.axisgrid.PairGrid at 0x7f07a0b83e50>"
            ]
          },
          "metadata": {},
          "execution_count": 24
        },
        {
          "output_type": "display_data",
          "data": {
            "text/plain": [
              "<Figure size 720x720 with 20 Axes>"
            ],
            "image/png": "[encoded data removed]"
          },
          "metadata": {
            "needs_background": "light"
          }
        }
      ]
    },
    {
      "cell_type": "code",
      "execution_count": null,
      "id": "81a98d33",
      "metadata": {
        "colab": {
          "base_uri": "https://localhost:8080/",
          "height": 206
        },
        "id": "81a98d33",
        "outputId": "1d1cd39d-6827-4a2f-ad78-04e664b40ec2"
      },
      "outputs": [
        {
          "output_type": "execute_result",
          "data": {
            "text/plain": [
              "   speed  load     time        cf\n",
              "0    500     5  0.00000  0.026548\n",
              "1    500     5  1.67903  0.000390\n",
              "2    500     5  1.74218  0.001865\n",
              "3    500     5  2.34285  0.003384\n",
              "4    500     5  2.67034  0.006485"
            ],
            "text/html": [
              "\n",
              "  <div id=\"df-6f5fe34b-a466-4323-b45a-f19376850203\">\n",
              "    <div class=\"colab-df-container\">\n",
              "      <div>\n",
              "<style scoped>\n",
              "    .dataframe tbody tr th:only-of-type {\n",
              "        vertical-align: middle;\n",
              "    }\n",
              "\n",
              "    .dataframe tbody tr th {\n",
              "        vertical-align: top;\n",
              "    }\n",
              "\n",
              "    .dataframe thead th {\n",
              "        text-align: right;\n",
              "    }\n",
              "</style>\n",
              "<table border=\"1\" class=\"dataframe\">\n",
              "  <thead>\n",
              "    <tr style=\"text-align: right;\">\n",
              "      <th></th>\n",
              "      <th>speed</th>\n",
              "      <th>load</th>\n",
              "      <th>time</th>\n",
              "      <th>cf</th>\n",
              "    </tr>\n",
              "  </thead>\n",
              "  <tbody>\n",
              "    <tr>\n",
              "      <th>0</th>\n",
              "      <td>500</td>\n",
              "      <td>5</td>\n",
              "      <td>0.00000</td>\n",
              "      <td>0.026548</td>\n",
              "    </tr>\n",
              "    <tr>\n",
              "      <th>1</th>\n",
              "      <td>500</td>\n",
              "      <td>5</td>\n",
              "      <td>1.67903</td>\n",
              "      <td>0.000390</td>\n",
              "    </tr>\n",
              "    <tr>\n",
              "      <th>2</th>\n",
              "      <td>500</td>\n",
              "      <td>5</td>\n",
              "      <td>1.74218</td>\n",
              "      <td>0.001865</td>\n",
              "    </tr>\n",
              "    <tr>\n",
              "      <th>3</th>\n",
              "      <td>500</td>\n",
              "      <td>5</td>\n",
              "      <td>2.34285</td>\n",
              "      <td>0.003384</td>\n",
              "    </tr>\n",
              "    <tr>\n",
              "      <th>4</th>\n",
              "      <td>500</td>\n",
              "      <td>5</td>\n",
              "      <td>2.67034</td>\n",
              "      <td>0.006485</td>\n",
              "    </tr>\n",
              "  </tbody>\n",
              "</table>\n",
              "</div>\n",
              "      <button class=\"colab-df-convert\" onclick=\"convertToInteractive('df-6f5fe34b-a466-4323-b45a-f19376850203')\"\n",
              "              title=\"Convert this dataframe to an interactive table.\"\n",
              "              style=\"display:none;\">\n",
              "        \n",
              "  <svg xmlns=\"http://www.w3.org/2000/svg\" height=\"24px\"viewBox=\"0 0 24 24\"\n",
              "       width=\"24px\">\n",
              "    <path d=\"M0 0h24v24H0V0z\" fill=\"none\"/>\n",
              "    <path d=\"M18.56 5.44l.94 2.06.94-2.06 2.06-.94-2.06-.94-.94-2.06-.94 2.06-2.06.94zm-11 1L8.5 8.5l.94-2.06 2.06-.94-2.06-.94L8.5 2.5l-.94 2.06-2.06.94zm10 10l.94 2.06.94-2.06 2.06-.94-2.06-.94-.94-2.06-.94 2.06-2.06.94z\"/><path d=\"M17.41 7.96l-1.37-1.37c-.4-.4-.92-.59-1.43-.59-.52 0-1.04.2-1.43.59L10.3 9.45l-7.72 7.72c-.78.78-.78 2.05 0 2.83L4 21.41c.39.39.9.59 1.41.59.51 0 1.02-.2 1.41-.59l7.78-7.78 2.81-2.81c.8-.78.8-2.07 0-2.86zM5.41 20L4 18.59l7.72-7.72 1.47 1.35L5.41 20z\"/>\n",
              "  </svg>\n",
              "      </button>\n",
              "      \n",
              "  <style>\n",
              "    .colab-df-container {\n",
              "      display:flex;\n",
              "      flex-wrap:wrap;\n",
              "      gap: 12px;\n",
              "    }\n",
              "\n",
              "    .colab-df-convert {\n",
              "      background-color: #E8F0FE;\n",
              "      border: none;\n",
              "      border-radius: 50%;\n",
              "      cursor: pointer;\n",
              "      display: none;\n",
              "      fill: #1967D2;\n",
              "      height: 32px;\n",
              "      padding: 0 0 0 0;\n",
              "      width: 32px;\n",
              "    }\n",
              "\n",
              "    .colab-df-convert:hover {\n",
              "      background-color: #E2EBFA;\n",
              "      box-shadow: 0px 1px 2px rgba(60, 64, 67, 0.3), 0px 1px 3px 1px rgba(60, 64, 67, 0.15);\n",
              "      fill: #174EA6;\n",
              "    }\n",
              "\n",
              "    [theme=dark] .colab-df-convert {\n",
              "      background-color: #3B4455;\n",
              "      fill: #D2E3FC;\n",
              "    }\n",
              "\n",
              "    [theme=dark] .colab-df-convert:hover {\n",
              "      background-color: #434B5C;\n",
              "      box-shadow: 0px 1px 3px 1px rgba(0, 0, 0, 0.15);\n",
              "      filter: drop-shadow(0px 1px 2px rgba(0, 0, 0, 0.3));\n",
              "      fill: #FFFFFF;\n",
              "    }\n",
              "  </style>\n",
              "\n",
              "      <script>\n",
              "        const buttonEl =\n",
              "          document.querySelector('#df-6f5fe34b-a466-4323-b45a-f19376850203 button.colab-df-convert');\n",
              "        buttonEl.style.display =\n",
              "          google.colab.kernel.accessAllowed ? 'block' : 'none';\n",
              "\n",
              "        async function convertToInteractive(key) {\n",
              "          const element = document.querySelector('#df-6f5fe34b-a466-4323-b45a-f19376850203');\n",
              "          const dataTable =\n",
              "            await google.colab.kernel.invokeFunction('convertToInteractive',\n",
              "                                                     [key], {});\n",
              "          if (!dataTable) return;\n",
              "\n",
              "          const docLinkHtml = 'Like what you see? Visit the ' +\n",
              "            '<a target=\"_blank\" href=https://colab.research.google.com/notebooks/data_table.ipynb>data table notebook</a>'\n",
              "            + ' to learn more about interactive tables.';\n",
              "          element.innerHTML = '';\n",
              "          dataTable['output_type'] = 'display_data';\n",
              "          await google.colab.output.renderOutput(dataTable, element);\n",
              "          const docLink = document.createElement('div');\n",
              "          docLink.innerHTML = docLinkHtml;\n",
              "          element.appendChild(docLink);\n",
              "        }\n",
              "      </script>\n",
              "    </div>\n",
              "  </div>\n",
              "  "
            ]
          },
          "metadata": {},
          "execution_count": 11
        }
      ],
      "source": [
        "df.head()"
      ]
    },
    {
      "cell_type": "code",
      "execution_count": null,
      "id": "878c572c",
      "metadata": {
        "colab": {
          "base_uri": "https://localhost:8080/"
        },
        "id": "878c572c",
        "outputId": "a63ad03c-5616-4299-a20c-84583ab46b37"
      },
      "outputs": [
        {
          "output_type": "stream",
          "name": "stdout",
          "text": [
            "x shape(3230, 3)\n",
            "y shape(3230, 1)\n"
          ]
        }
      ],
      "source": [
        "x = df[['speed',\t'load',\t'time']]\n",
        "y = df['cf'].values.reshape(-1, 1)\n",
        "print(f\"x shape{x.shape}\")\n",
        "print(f\"y shape{y.shape}\")"
      ]
    },
    {
      "cell_type": "code",
      "execution_count": null,
      "id": "1635f469",
      "metadata": {
        "id": "1635f469"
      },
      "outputs": [],
      "source": [
        "from sklearn.model_selection import train_test_split\n",
        "X_train, X_temp, y_train, y_temp = train_test_split(x, y, test_size=0.2, random_state=42) # 80% data for training the model\n",
        "\n",
        "X_test, X_val, y_test, y_val = train_test_split(X_temp, y_temp, test_size=0.5, random_state=42) # 10% data for testing and validation"
      ]
    },
    {
      "cell_type": "code",
      "source": [
        "print(f\"x train shape{X_train.shape}\")\n",
        "print(f\"y train shape{y_train.shape}\")\n",
        "print(f\"x test shape{X_test.shape}\")\n",
        "print(f\"y test shape{y_test.shape}\")\n",
        "print(f\"x val shape{X_val.shape}\")\n",
        "print(f\"y val shape{y_val.shape}\")"
      ],
      "metadata": {
        "colab": {
          "base_uri": "https://localhost:8080/"
        },
        "id": "gUhrX_KXodRR",
        "outputId": "86ca1624-b54b-47a5-fb52-9e208a388edb"
      },
      "id": "gUhrX_KXodRR",
      "execution_count": null,
      "outputs": [
        {
          "output_type": "stream",
          "name": "stdout",
          "text": [
            "x train shape(2584, 3)\n",
            "y train shape(2584, 1)\n",
            "x test shape(323, 3)\n",
            "y test shape(323, 1)\n",
            "x val shape(323, 3)\n",
            "y val shape(323, 1)\n"
          ]
        }
      ]
    },
    {
      "cell_type": "code",
      "execution_count": null,
      "id": "2aeacc2b",
      "metadata": {
        "id": "2aeacc2b"
      },
      "outputs": [],
      "source": [
        "from sklearn.preprocessing import StandardScaler\n",
        "scaler = StandardScaler()\n",
        "X_train = scaler.fit_transform(X_train)\n",
        "X_test = scaler.transform(X_test)\n",
        "X_val = scaler.transform(X_val)"
      ]
    },
    {
      "cell_type": "code",
      "execution_count": null,
      "id": "3f222918",
      "metadata": {
        "id": "3f222918",
        "colab": {
          "base_uri": "https://localhost:8080/"
        },
        "outputId": "94c9b028-dc56-4d24-84cc-b90770f3cffc"
      },
      "outputs": [
        {
          "output_type": "stream",
          "name": "stdout",
          "text": [
            "Model: \"sequential\"\n",
            "_________________________________________________________________\n",
            " Layer (type)                Output Shape              Param #   \n",
            "=================================================================\n",
            " dense (Dense)               (None, 512)               2048      \n",
            "                                                                 \n",
            " dense_1 (Dense)             (None, 512)               262656    \n",
            "                                                                 \n",
            " dense_2 (Dense)             (None, 512)               262656    \n",
            "                                                                 \n",
            " dense_3 (Dense)             (None, 1)                 513       \n",
            "                                                                 \n",
            "=================================================================\n",
            "Total params: 527,873\n",
            "Trainable params: 527,873\n",
            "Non-trainable params: 0\n",
            "_________________________________________________________________\n"
          ]
        }
      ],
      "source": [
        "model = Sequential([\n",
        "\n",
        "tf.keras.layers.InputLayer(3,),\n",
        "Dense(512,activation='relu'),\n",
        "Dense(512,activation='relu'),\n",
        "Dense(512,activation='relu'),\n",
        "Dense(1)\n",
        "])\n",
        "\n",
        "model.summary()"
      ]
    },
    {
      "cell_type": "code",
      "execution_count": null,
      "id": "98508d41",
      "metadata": {
        "id": "98508d41"
      },
      "outputs": [],
      "source": [
        "opt = tf.keras.optimizers.Adam(learning_rate=0.0001)\n",
        "model.compile(loss='mean_squared_error', optimizer=opt)"
      ]
    },
    {
      "cell_type": "code",
      "execution_count": null,
      "id": "dd2af971",
      "metadata": {
        "colab": {
          "base_uri": "https://localhost:8080/"
        },
        "id": "dd2af971",
        "outputId": "fdd173ec-24c9-4d0c-c862-5065b1f94be7"
      },
      "outputs": [
        {
          "output_type": "stream",
          "name": "stdout",
          "text": [
            "Epoch 1/300\n",
            "81/81 [==============================] - 1s 8ms/step - loss: 0.0148 - val_loss: 0.0016\n",
            "Epoch 2/300\n",
            "81/81 [==============================] - 0s 6ms/step - loss: 0.0017 - val_loss: 9.7091e-04\n",
            "Epoch 3/300\n",
            "81/81 [==============================] - 0s 6ms/step - loss: 0.0014 - val_loss: 8.2968e-04\n",
            "Epoch 4/300\n",
            "81/81 [==============================] - 0s 6ms/step - loss: 0.0013 - val_loss: 6.7341e-04\n",
            "Epoch 5/300\n",
            "81/81 [==============================] - 1s 7ms/step - loss: 0.0013 - val_loss: 6.7760e-04\n",
            "Epoch 6/300\n",
            "81/81 [==============================] - 1s 6ms/step - loss: 0.0012 - val_loss: 5.7788e-04\n",
            "Epoch 7/300\n",
            "81/81 [==============================] - 0s 6ms/step - loss: 0.0011 - val_loss: 7.4257e-04\n",
            "Epoch 8/300\n",
            "81/81 [==============================] - 0s 6ms/step - loss: 0.0012 - val_loss: 5.8573e-04\n",
            "Epoch 9/300\n",
            "81/81 [==============================] - 1s 6ms/step - loss: 9.9706e-04 - val_loss: 4.9961e-04\n",
            "Epoch 10/300\n",
            "81/81 [==============================] - 1s 6ms/step - loss: 0.0011 - val_loss: 7.1128e-04\n",
            "Epoch 11/300\n",
            "81/81 [==============================] - 0s 6ms/step - loss: 0.0010 - val_loss: 4.4618e-04\n",
            "Epoch 12/300\n",
            "81/81 [==============================] - 0s 6ms/step - loss: 9.9954e-04 - val_loss: 4.9715e-04\n",
            "Epoch 13/300\n",
            "81/81 [==============================] - 0s 6ms/step - loss: 9.4326e-04 - val_loss: 3.7657e-04\n",
            "Epoch 14/300\n",
            "81/81 [==============================] - 0s 6ms/step - loss: 9.5915e-04 - val_loss: 5.8200e-04\n",
            "Epoch 15/300\n",
            "81/81 [==============================] - 1s 7ms/step - loss: 9.2741e-04 - val_loss: 5.6247e-04\n",
            "Epoch 16/300\n",
            "81/81 [==============================] - 0s 6ms/step - loss: 0.0010 - val_loss: 3.7153e-04\n",
            "Epoch 17/300\n",
            "81/81 [==============================] - 1s 7ms/step - loss: 8.8305e-04 - val_loss: 4.0784e-04\n",
            "Epoch 18/300\n",
            "81/81 [==============================] - 1s 7ms/step - loss: 8.8900e-04 - val_loss: 5.1959e-04\n",
            "Epoch 19/300\n",
            "81/81 [==============================] - 1s 7ms/step - loss: 9.3000e-04 - val_loss: 4.5467e-04\n",
            "Epoch 20/300\n",
            "81/81 [==============================] - 0s 6ms/step - loss: 8.5665e-04 - val_loss: 3.8209e-04\n",
            "Epoch 21/300\n",
            "81/81 [==============================] - 1s 6ms/step - loss: 8.4126e-04 - val_loss: 3.9208e-04\n",
            "Epoch 22/300\n",
            "81/81 [==============================] - 0s 6ms/step - loss: 8.6413e-04 - val_loss: 3.9866e-04\n",
            "Epoch 23/300\n",
            "81/81 [==============================] - 1s 8ms/step - loss: 8.6146e-04 - val_loss: 5.9195e-04\n",
            "Epoch 24/300\n",
            "81/81 [==============================] - 1s 8ms/step - loss: 8.1855e-04 - val_loss: 3.8377e-04\n",
            "Epoch 25/300\n",
            "81/81 [==============================] - 1s 9ms/step - loss: 9.8840e-04 - val_loss: 5.8028e-04\n",
            "Epoch 26/300\n",
            "81/81 [==============================] - 1s 8ms/step - loss: 9.0206e-04 - val_loss: 4.6669e-04\n",
            "Epoch 27/300\n",
            "81/81 [==============================] - 1s 8ms/step - loss: 8.1154e-04 - val_loss: 3.9554e-04\n",
            "Epoch 28/300\n",
            "81/81 [==============================] - 1s 8ms/step - loss: 7.3833e-04 - val_loss: 3.3630e-04\n",
            "Epoch 29/300\n",
            "81/81 [==============================] - 1s 8ms/step - loss: 8.8998e-04 - val_loss: 4.6333e-04\n",
            "Epoch 30/300\n",
            "81/81 [==============================] - 1s 9ms/step - loss: 7.9383e-04 - val_loss: 3.8488e-04\n",
            "Epoch 31/300\n",
            "81/81 [==============================] - 1s 9ms/step - loss: 7.4560e-04 - val_loss: 4.0416e-04\n",
            "Epoch 32/300\n",
            "81/81 [==============================] - 0s 6ms/step - loss: 7.3725e-04 - val_loss: 5.2716e-04\n",
            "Epoch 33/300\n",
            "81/81 [==============================] - 0s 6ms/step - loss: 7.8867e-04 - val_loss: 3.6421e-04\n",
            "Epoch 34/300\n",
            "81/81 [==============================] - 0s 6ms/step - loss: 7.4190e-04 - val_loss: 3.4778e-04\n",
            "Epoch 35/300\n",
            "81/81 [==============================] - 1s 6ms/step - loss: 7.3145e-04 - val_loss: 3.0043e-04\n",
            "Epoch 36/300\n",
            "81/81 [==============================] - 1s 8ms/step - loss: 8.0393e-04 - val_loss: 5.4234e-04\n",
            "Epoch 37/300\n",
            "81/81 [==============================] - 1s 8ms/step - loss: 7.3258e-04 - val_loss: 3.1589e-04\n",
            "Epoch 38/300\n",
            "81/81 [==============================] - 1s 9ms/step - loss: 6.4551e-04 - val_loss: 3.8513e-04\n",
            "Epoch 39/300\n",
            "81/81 [==============================] - 1s 8ms/step - loss: 7.0187e-04 - val_loss: 3.6588e-04\n",
            "Epoch 40/300\n",
            "81/81 [==============================] - 1s 9ms/step - loss: 6.4719e-04 - val_loss: 3.1579e-04\n",
            "Epoch 41/300\n",
            "81/81 [==============================] - 1s 7ms/step - loss: 7.5769e-04 - val_loss: 5.2908e-04\n",
            "Epoch 42/300\n",
            "81/81 [==============================] - 1s 8ms/step - loss: 7.6927e-04 - val_loss: 2.9767e-04\n",
            "Epoch 43/300\n",
            "81/81 [==============================] - 1s 8ms/step - loss: 7.9138e-04 - val_loss: 3.3491e-04\n",
            "Epoch 44/300\n",
            "81/81 [==============================] - 1s 7ms/step - loss: 7.8393e-04 - val_loss: 3.6141e-04\n",
            "Epoch 45/300\n",
            "81/81 [==============================] - 1s 10ms/step - loss: 6.9097e-04 - val_loss: 3.6111e-04\n",
            "Epoch 46/300\n",
            "81/81 [==============================] - 1s 8ms/step - loss: 6.5027e-04 - val_loss: 2.8914e-04\n",
            "Epoch 47/300\n",
            "81/81 [==============================] - 0s 6ms/step - loss: 6.0883e-04 - val_loss: 3.2287e-04\n",
            "Epoch 48/300\n",
            "81/81 [==============================] - 0s 6ms/step - loss: 7.3236e-04 - val_loss: 3.3490e-04\n",
            "Epoch 49/300\n",
            "81/81 [==============================] - 1s 6ms/step - loss: 7.3388e-04 - val_loss: 3.5030e-04\n",
            "Epoch 50/300\n",
            "81/81 [==============================] - 1s 7ms/step - loss: 6.6514e-04 - val_loss: 3.8986e-04\n",
            "Epoch 51/300\n",
            "81/81 [==============================] - 1s 7ms/step - loss: 6.3177e-04 - val_loss: 3.1030e-04\n",
            "Epoch 52/300\n",
            "81/81 [==============================] - 0s 6ms/step - loss: 6.6094e-04 - val_loss: 3.6014e-04\n",
            "Epoch 53/300\n",
            "81/81 [==============================] - 1s 7ms/step - loss: 7.2775e-04 - val_loss: 3.2902e-04\n",
            "Epoch 54/300\n",
            "81/81 [==============================] - 1s 9ms/step - loss: 5.9051e-04 - val_loss: 3.1949e-04\n",
            "Epoch 55/300\n",
            "81/81 [==============================] - 1s 7ms/step - loss: 6.7272e-04 - val_loss: 4.4965e-04\n",
            "Epoch 56/300\n",
            "81/81 [==============================] - 1s 6ms/step - loss: 6.5284e-04 - val_loss: 4.5279e-04\n",
            "Epoch 57/300\n",
            "81/81 [==============================] - 1s 8ms/step - loss: 6.2958e-04 - val_loss: 3.6791e-04\n",
            "Epoch 58/300\n",
            "81/81 [==============================] - 1s 9ms/step - loss: 6.0536e-04 - val_loss: 3.4134e-04\n",
            "Epoch 59/300\n",
            "81/81 [==============================] - 1s 8ms/step - loss: 5.6437e-04 - val_loss: 2.9018e-04\n",
            "Epoch 60/300\n",
            "81/81 [==============================] - 1s 9ms/step - loss: 5.2734e-04 - val_loss: 2.9943e-04\n",
            "Epoch 61/300\n",
            "81/81 [==============================] - 0s 6ms/step - loss: 5.5683e-04 - val_loss: 3.2834e-04\n",
            "Epoch 62/300\n",
            "81/81 [==============================] - 0s 6ms/step - loss: 5.6789e-04 - val_loss: 3.9527e-04\n",
            "Epoch 63/300\n",
            "81/81 [==============================] - 0s 6ms/step - loss: 5.7664e-04 - val_loss: 2.5588e-04\n",
            "Epoch 64/300\n",
            "81/81 [==============================] - 1s 7ms/step - loss: 5.2061e-04 - val_loss: 2.5683e-04\n",
            "Epoch 65/300\n",
            "81/81 [==============================] - 0s 6ms/step - loss: 6.6424e-04 - val_loss: 3.6239e-04\n",
            "Epoch 66/300\n",
            "81/81 [==============================] - 0s 6ms/step - loss: 6.1813e-04 - val_loss: 4.1967e-04\n",
            "Epoch 67/300\n",
            "81/81 [==============================] - 0s 6ms/step - loss: 6.3287e-04 - val_loss: 2.9185e-04\n",
            "Epoch 68/300\n",
            "81/81 [==============================] - 0s 6ms/step - loss: 5.9302e-04 - val_loss: 2.9538e-04\n",
            "Epoch 69/300\n",
            "81/81 [==============================] - 1s 6ms/step - loss: 6.5156e-04 - val_loss: 4.0521e-04\n",
            "Epoch 70/300\n",
            "81/81 [==============================] - 1s 6ms/step - loss: 5.6241e-04 - val_loss: 3.6233e-04\n",
            "Epoch 71/300\n",
            "81/81 [==============================] - 1s 6ms/step - loss: 5.4596e-04 - val_loss: 4.0731e-04\n",
            "Epoch 72/300\n",
            "81/81 [==============================] - 0s 6ms/step - loss: 6.6134e-04 - val_loss: 2.0389e-04\n",
            "Epoch 73/300\n",
            "81/81 [==============================] - 1s 6ms/step - loss: 5.9724e-04 - val_loss: 3.0163e-04\n",
            "Epoch 74/300\n",
            "81/81 [==============================] - 0s 6ms/step - loss: 6.5576e-04 - val_loss: 3.7333e-04\n",
            "Epoch 75/300\n",
            "81/81 [==============================] - 0s 6ms/step - loss: 5.5035e-04 - val_loss: 2.4208e-04\n",
            "Epoch 76/300\n",
            "81/81 [==============================] - 0s 6ms/step - loss: 5.6468e-04 - val_loss: 2.6430e-04\n",
            "Epoch 77/300\n",
            "81/81 [==============================] - 0s 6ms/step - loss: 5.8196e-04 - val_loss: 2.3842e-04\n",
            "Epoch 78/300\n",
            "81/81 [==============================] - 0s 6ms/step - loss: 5.4041e-04 - val_loss: 3.1436e-04\n",
            "Epoch 79/300\n",
            "81/81 [==============================] - 0s 6ms/step - loss: 5.1374e-04 - val_loss: 2.8880e-04\n",
            "Epoch 80/300\n",
            "81/81 [==============================] - 1s 6ms/step - loss: 5.0392e-04 - val_loss: 3.2512e-04\n",
            "Epoch 81/300\n",
            "81/81 [==============================] - 1s 7ms/step - loss: 5.7267e-04 - val_loss: 2.8291e-04\n",
            "Epoch 82/300\n",
            "81/81 [==============================] - 1s 6ms/step - loss: 5.2202e-04 - val_loss: 2.7324e-04\n",
            "Epoch 83/300\n",
            "81/81 [==============================] - 1s 6ms/step - loss: 4.8890e-04 - val_loss: 2.5899e-04\n",
            "Epoch 84/300\n",
            "81/81 [==============================] - 1s 7ms/step - loss: 5.0156e-04 - val_loss: 5.1673e-04\n",
            "Epoch 85/300\n",
            "81/81 [==============================] - 1s 6ms/step - loss: 5.5464e-04 - val_loss: 2.9176e-04\n",
            "Epoch 86/300\n",
            "81/81 [==============================] - 0s 6ms/step - loss: 4.9753e-04 - val_loss: 4.1458e-04\n",
            "Epoch 87/300\n",
            "81/81 [==============================] - 1s 7ms/step - loss: 5.5126e-04 - val_loss: 3.7507e-04\n",
            "Epoch 88/300\n",
            "81/81 [==============================] - 1s 7ms/step - loss: 5.3802e-04 - val_loss: 3.1428e-04\n",
            "Epoch 89/300\n",
            "81/81 [==============================] - 1s 8ms/step - loss: 4.5538e-04 - val_loss: 2.6919e-04\n",
            "Epoch 90/300\n",
            "81/81 [==============================] - 1s 7ms/step - loss: 5.1104e-04 - val_loss: 2.7439e-04\n",
            "Epoch 91/300\n",
            "81/81 [==============================] - 1s 6ms/step - loss: 4.9517e-04 - val_loss: 3.3850e-04\n",
            "Epoch 92/300\n",
            "81/81 [==============================] - 0s 6ms/step - loss: 5.1704e-04 - val_loss: 2.7093e-04\n",
            "Epoch 93/300\n",
            "81/81 [==============================] - 0s 6ms/step - loss: 4.3774e-04 - val_loss: 2.6214e-04\n",
            "Epoch 94/300\n",
            "81/81 [==============================] - 0s 6ms/step - loss: 5.5183e-04 - val_loss: 2.5117e-04\n",
            "Epoch 95/300\n",
            "81/81 [==============================] - 1s 6ms/step - loss: 4.7875e-04 - val_loss: 3.6785e-04\n",
            "Epoch 96/300\n",
            "81/81 [==============================] - 1s 6ms/step - loss: 4.1948e-04 - val_loss: 2.3406e-04\n",
            "Epoch 97/300\n",
            "81/81 [==============================] - 0s 6ms/step - loss: 5.6618e-04 - val_loss: 4.3014e-04\n",
            "Epoch 98/300\n",
            "81/81 [==============================] - 1s 6ms/step - loss: 6.5525e-04 - val_loss: 5.5310e-04\n",
            "Epoch 99/300\n",
            "81/81 [==============================] - 1s 7ms/step - loss: 4.7309e-04 - val_loss: 2.7721e-04\n",
            "Epoch 100/300\n",
            "81/81 [==============================] - 0s 6ms/step - loss: 6.1258e-04 - val_loss: 3.2099e-04\n",
            "Epoch 101/300\n",
            "81/81 [==============================] - 0s 6ms/step - loss: 5.9917e-04 - val_loss: 2.0954e-04\n",
            "Epoch 102/300\n",
            "81/81 [==============================] - 1s 6ms/step - loss: 4.7735e-04 - val_loss: 2.9355e-04\n",
            "Epoch 103/300\n",
            "81/81 [==============================] - 1s 7ms/step - loss: 5.7709e-04 - val_loss: 3.0714e-04\n",
            "Epoch 104/300\n",
            "81/81 [==============================] - 1s 7ms/step - loss: 4.6598e-04 - val_loss: 2.2396e-04\n",
            "Epoch 105/300\n",
            "81/81 [==============================] - 0s 6ms/step - loss: 4.7244e-04 - val_loss: 1.9844e-04\n",
            "Epoch 106/300\n",
            "81/81 [==============================] - 1s 7ms/step - loss: 4.3440e-04 - val_loss: 2.0136e-04\n",
            "Epoch 107/300\n",
            "81/81 [==============================] - 1s 7ms/step - loss: 4.7909e-04 - val_loss: 3.5932e-04\n",
            "Epoch 108/300\n",
            "81/81 [==============================] - 1s 7ms/step - loss: 4.1654e-04 - val_loss: 2.4131e-04\n",
            "Epoch 109/300\n",
            "81/81 [==============================] - 1s 7ms/step - loss: 4.3451e-04 - val_loss: 2.4660e-04\n",
            "Epoch 110/300\n",
            "81/81 [==============================] - 1s 7ms/step - loss: 5.2984e-04 - val_loss: 2.6642e-04\n",
            "Epoch 111/300\n",
            "81/81 [==============================] - 0s 6ms/step - loss: 4.2410e-04 - val_loss: 2.4138e-04\n",
            "Epoch 112/300\n",
            "81/81 [==============================] - 1s 6ms/step - loss: 3.9677e-04 - val_loss: 2.6859e-04\n",
            "Epoch 113/300\n",
            "81/81 [==============================] - 0s 6ms/step - loss: 6.8709e-04 - val_loss: 2.8438e-04\n",
            "Epoch 114/300\n",
            "81/81 [==============================] - 1s 6ms/step - loss: 5.5911e-04 - val_loss: 2.9592e-04\n",
            "Epoch 115/300\n",
            "81/81 [==============================] - 0s 6ms/step - loss: 4.1537e-04 - val_loss: 2.5693e-04\n",
            "Epoch 116/300\n",
            "81/81 [==============================] - 1s 7ms/step - loss: 3.8485e-04 - val_loss: 2.8817e-04\n",
            "Epoch 117/300\n",
            "81/81 [==============================] - 1s 7ms/step - loss: 4.6915e-04 - val_loss: 3.2354e-04\n",
            "Epoch 118/300\n",
            "81/81 [==============================] - 1s 7ms/step - loss: 5.6372e-04 - val_loss: 2.5521e-04\n",
            "Epoch 119/300\n",
            "81/81 [==============================] - 1s 8ms/step - loss: 4.0292e-04 - val_loss: 2.2458e-04\n",
            "Epoch 120/300\n",
            "81/81 [==============================] - 1s 6ms/step - loss: 5.6735e-04 - val_loss: 2.4691e-04\n",
            "Epoch 121/300\n",
            "81/81 [==============================] - 1s 6ms/step - loss: 3.9109e-04 - val_loss: 2.1196e-04\n",
            "Epoch 122/300\n",
            "81/81 [==============================] - 1s 7ms/step - loss: 4.1831e-04 - val_loss: 1.9260e-04\n",
            "Epoch 123/300\n",
            "81/81 [==============================] - 0s 6ms/step - loss: 4.1435e-04 - val_loss: 2.9038e-04\n",
            "Epoch 124/300\n",
            "81/81 [==============================] - 0s 6ms/step - loss: 4.5207e-04 - val_loss: 2.3621e-04\n",
            "Epoch 125/300\n",
            "81/81 [==============================] - 0s 6ms/step - loss: 4.2793e-04 - val_loss: 3.3862e-04\n",
            "Epoch 126/300\n",
            "81/81 [==============================] - 1s 6ms/step - loss: 4.6932e-04 - val_loss: 2.4637e-04\n",
            "Epoch 127/300\n",
            "81/81 [==============================] - 1s 6ms/step - loss: 4.2818e-04 - val_loss: 3.3304e-04\n",
            "Epoch 128/300\n",
            "81/81 [==============================] - 0s 6ms/step - loss: 4.4540e-04 - val_loss: 3.2529e-04\n",
            "Epoch 129/300\n",
            "81/81 [==============================] - 0s 6ms/step - loss: 6.9393e-04 - val_loss: 2.2867e-04\n",
            "Epoch 130/300\n",
            "81/81 [==============================] - 0s 6ms/step - loss: 4.1624e-04 - val_loss: 2.3781e-04\n",
            "Epoch 131/300\n",
            "81/81 [==============================] - 1s 6ms/step - loss: 3.9922e-04 - val_loss: 2.3481e-04\n",
            "Epoch 132/300\n",
            "81/81 [==============================] - 1s 7ms/step - loss: 4.8565e-04 - val_loss: 1.9719e-04\n",
            "Epoch 133/300\n",
            "81/81 [==============================] - 1s 7ms/step - loss: 4.4747e-04 - val_loss: 1.8346e-04\n",
            "Epoch 134/300\n",
            "81/81 [==============================] - 1s 7ms/step - loss: 4.4783e-04 - val_loss: 3.5547e-04\n",
            "Epoch 135/300\n",
            "81/81 [==============================] - 1s 7ms/step - loss: 4.8656e-04 - val_loss: 2.6055e-04\n",
            "Epoch 136/300\n",
            "81/81 [==============================] - 0s 6ms/step - loss: 4.2937e-04 - val_loss: 2.4527e-04\n",
            "Epoch 137/300\n",
            "81/81 [==============================] - 0s 6ms/step - loss: 6.5842e-04 - val_loss: 3.1247e-04\n",
            "Epoch 138/300\n",
            "81/81 [==============================] - 0s 6ms/step - loss: 3.6630e-04 - val_loss: 2.2597e-04\n",
            "Epoch 139/300\n",
            "81/81 [==============================] - 1s 6ms/step - loss: 4.3358e-04 - val_loss: 2.5081e-04\n",
            "Epoch 140/300\n",
            "81/81 [==============================] - 1s 7ms/step - loss: 3.5839e-04 - val_loss: 1.9502e-04\n",
            "Epoch 141/300\n",
            "81/81 [==============================] - 1s 6ms/step - loss: 3.8082e-04 - val_loss: 1.9321e-04\n",
            "Epoch 142/300\n",
            "81/81 [==============================] - 1s 6ms/step - loss: 4.0188e-04 - val_loss: 2.0892e-04\n",
            "Epoch 143/300\n",
            "81/81 [==============================] - 0s 6ms/step - loss: 4.4920e-04 - val_loss: 3.1983e-04\n",
            "Epoch 144/300\n",
            "81/81 [==============================] - 1s 6ms/step - loss: 4.0439e-04 - val_loss: 2.0164e-04\n",
            "Epoch 145/300\n",
            "81/81 [==============================] - 1s 6ms/step - loss: 5.0618e-04 - val_loss: 2.3191e-04\n",
            "Epoch 146/300\n",
            "81/81 [==============================] - 1s 6ms/step - loss: 3.8862e-04 - val_loss: 2.5890e-04\n",
            "Epoch 147/300\n",
            "81/81 [==============================] - 0s 6ms/step - loss: 3.8685e-04 - val_loss: 2.4950e-04\n",
            "Epoch 148/300\n",
            "81/81 [==============================] - 0s 6ms/step - loss: 3.7619e-04 - val_loss: 1.7275e-04\n",
            "Epoch 149/300\n",
            "81/81 [==============================] - 0s 6ms/step - loss: 3.8283e-04 - val_loss: 2.1245e-04\n",
            "Epoch 150/300\n",
            "81/81 [==============================] - 1s 6ms/step - loss: 4.4631e-04 - val_loss: 2.0270e-04\n",
            "Epoch 151/300\n",
            "81/81 [==============================] - 0s 6ms/step - loss: 3.6201e-04 - val_loss: 1.9987e-04\n",
            "Epoch 152/300\n",
            "81/81 [==============================] - 1s 6ms/step - loss: 3.6691e-04 - val_loss: 2.3720e-04\n",
            "Epoch 153/300\n",
            "81/81 [==============================] - 0s 6ms/step - loss: 4.2987e-04 - val_loss: 3.3577e-04\n",
            "Epoch 154/300\n",
            "81/81 [==============================] - 0s 6ms/step - loss: 3.6108e-04 - val_loss: 3.3157e-04\n",
            "Epoch 155/300\n",
            "81/81 [==============================] - 0s 6ms/step - loss: 3.9935e-04 - val_loss: 2.7484e-04\n",
            "Epoch 156/300\n",
            "81/81 [==============================] - 0s 6ms/step - loss: 3.8837e-04 - val_loss: 1.8728e-04\n",
            "Epoch 157/300\n",
            "81/81 [==============================] - 0s 6ms/step - loss: 3.5853e-04 - val_loss: 2.4809e-04\n",
            "Epoch 158/300\n",
            "81/81 [==============================] - 1s 6ms/step - loss: 4.2965e-04 - val_loss: 1.8130e-04\n",
            "Epoch 159/300\n",
            "81/81 [==============================] - 1s 7ms/step - loss: 5.4127e-04 - val_loss: 3.0602e-04\n",
            "Epoch 160/300\n",
            "81/81 [==============================] - 0s 6ms/step - loss: 3.3020e-04 - val_loss: 2.0211e-04\n",
            "Epoch 161/300\n",
            "81/81 [==============================] - 1s 8ms/step - loss: 4.1338e-04 - val_loss: 2.1279e-04\n",
            "Epoch 162/300\n",
            "81/81 [==============================] - 1s 7ms/step - loss: 3.2626e-04 - val_loss: 2.3976e-04\n",
            "Epoch 163/300\n",
            "81/81 [==============================] - 1s 6ms/step - loss: 3.6484e-04 - val_loss: 2.1438e-04\n",
            "Epoch 164/300\n",
            "81/81 [==============================] - 0s 6ms/step - loss: 4.1705e-04 - val_loss: 2.7960e-04\n",
            "Epoch 165/300\n",
            "81/81 [==============================] - 0s 6ms/step - loss: 4.6965e-04 - val_loss: 2.8053e-04\n",
            "Epoch 166/300\n",
            "81/81 [==============================] - 1s 6ms/step - loss: 3.9268e-04 - val_loss: 3.1742e-04\n",
            "Epoch 167/300\n",
            "81/81 [==============================] - 1s 6ms/step - loss: 3.6041e-04 - val_loss: 2.0429e-04\n",
            "Epoch 168/300\n",
            "81/81 [==============================] - 0s 6ms/step - loss: 4.6811e-04 - val_loss: 3.0939e-04\n",
            "Epoch 169/300\n",
            "81/81 [==============================] - 1s 6ms/step - loss: 3.2791e-04 - val_loss: 1.7861e-04\n",
            "Epoch 170/300\n",
            "81/81 [==============================] - 1s 6ms/step - loss: 4.0296e-04 - val_loss: 2.4090e-04\n",
            "Epoch 171/300\n",
            "81/81 [==============================] - 1s 7ms/step - loss: 3.2358e-04 - val_loss: 1.9095e-04\n",
            "Epoch 172/300\n",
            "81/81 [==============================] - 1s 6ms/step - loss: 3.2949e-04 - val_loss: 2.3429e-04\n",
            "Epoch 173/300\n",
            "81/81 [==============================] - 1s 6ms/step - loss: 3.1495e-04 - val_loss: 3.2537e-04\n",
            "Epoch 174/300\n",
            "81/81 [==============================] - 1s 6ms/step - loss: 3.5553e-04 - val_loss: 2.1537e-04\n",
            "Epoch 175/300\n",
            "81/81 [==============================] - 1s 7ms/step - loss: 3.9575e-04 - val_loss: 3.1660e-04\n",
            "Epoch 176/300\n",
            "81/81 [==============================] - 0s 6ms/step - loss: 4.0572e-04 - val_loss: 2.0636e-04\n",
            "Epoch 177/300\n",
            "81/81 [==============================] - 0s 6ms/step - loss: 3.3272e-04 - val_loss: 2.3315e-04\n",
            "Epoch 178/300\n",
            "81/81 [==============================] - 1s 6ms/step - loss: 3.4586e-04 - val_loss: 1.9051e-04\n",
            "Epoch 179/300\n",
            "81/81 [==============================] - 1s 6ms/step - loss: 3.4079e-04 - val_loss: 3.0998e-04\n",
            "Epoch 180/300\n",
            "81/81 [==============================] - 0s 6ms/step - loss: 3.4596e-04 - val_loss: 2.6489e-04\n",
            "Epoch 181/300\n",
            "81/81 [==============================] - 1s 6ms/step - loss: 3.8208e-04 - val_loss: 2.7921e-04\n",
            "Epoch 182/300\n",
            "81/81 [==============================] - 0s 6ms/step - loss: 3.1889e-04 - val_loss: 2.5341e-04\n",
            "Epoch 183/300\n",
            "81/81 [==============================] - 1s 6ms/step - loss: 4.0055e-04 - val_loss: 3.4634e-04\n",
            "Epoch 184/300\n",
            "81/81 [==============================] - 0s 6ms/step - loss: 5.5197e-04 - val_loss: 2.5011e-04\n",
            "Epoch 185/300\n",
            "81/81 [==============================] - 0s 6ms/step - loss: 3.4556e-04 - val_loss: 2.4224e-04\n",
            "Epoch 186/300\n",
            "81/81 [==============================] - 0s 6ms/step - loss: 3.4829e-04 - val_loss: 1.9828e-04\n",
            "Epoch 187/300\n",
            "81/81 [==============================] - 1s 6ms/step - loss: 3.9982e-04 - val_loss: 2.2803e-04\n",
            "Epoch 188/300\n",
            "81/81 [==============================] - 1s 6ms/step - loss: 3.7287e-04 - val_loss: 2.3981e-04\n",
            "Epoch 189/300\n",
            "81/81 [==============================] - 0s 6ms/step - loss: 3.3355e-04 - val_loss: 1.7918e-04\n",
            "Epoch 190/300\n",
            "81/81 [==============================] - 1s 7ms/step - loss: 3.8564e-04 - val_loss: 3.2735e-04\n",
            "Epoch 191/300\n",
            "81/81 [==============================] - 1s 6ms/step - loss: 3.4800e-04 - val_loss: 2.4904e-04\n",
            "Epoch 192/300\n",
            "81/81 [==============================] - 1s 6ms/step - loss: 3.3870e-04 - val_loss: 2.4558e-04\n",
            "Epoch 193/300\n",
            "81/81 [==============================] - 1s 7ms/step - loss: 3.3533e-04 - val_loss: 1.7417e-04\n",
            "Epoch 194/300\n",
            "81/81 [==============================] - 1s 8ms/step - loss: 3.1949e-04 - val_loss: 2.4769e-04\n",
            "Epoch 195/300\n",
            "81/81 [==============================] - 0s 6ms/step - loss: 3.0048e-04 - val_loss: 2.4372e-04\n",
            "Epoch 196/300\n",
            "81/81 [==============================] - 1s 6ms/step - loss: 3.5204e-04 - val_loss: 3.5938e-04\n",
            "Epoch 197/300\n",
            "81/81 [==============================] - 0s 6ms/step - loss: 3.6697e-04 - val_loss: 1.7299e-04\n",
            "Epoch 198/300\n",
            "81/81 [==============================] - 1s 7ms/step - loss: 3.6547e-04 - val_loss: 2.0909e-04\n",
            "Epoch 199/300\n",
            "81/81 [==============================] - 1s 6ms/step - loss: 2.7890e-04 - val_loss: 2.6078e-04\n",
            "Epoch 200/300\n",
            "81/81 [==============================] - 1s 7ms/step - loss: 3.8524e-04 - val_loss: 2.3089e-04\n",
            "Epoch 201/300\n",
            "81/81 [==============================] - 1s 7ms/step - loss: 3.3585e-04 - val_loss: 1.8515e-04\n",
            "Epoch 202/300\n",
            "81/81 [==============================] - 1s 7ms/step - loss: 3.4955e-04 - val_loss: 1.6213e-04\n",
            "Epoch 203/300\n",
            "81/81 [==============================] - 0s 6ms/step - loss: 3.0239e-04 - val_loss: 2.4176e-04\n",
            "Epoch 204/300\n",
            "81/81 [==============================] - 1s 6ms/step - loss: 3.1276e-04 - val_loss: 1.8123e-04\n",
            "Epoch 205/300\n",
            "81/81 [==============================] - 1s 7ms/step - loss: 2.9866e-04 - val_loss: 1.7149e-04\n",
            "Epoch 206/300\n",
            "81/81 [==============================] - 1s 6ms/step - loss: 6.8186e-04 - val_loss: 2.6309e-04\n",
            "Epoch 207/300\n",
            "81/81 [==============================] - 1s 7ms/step - loss: 4.4537e-04 - val_loss: 2.2674e-04\n",
            "Epoch 208/300\n",
            "81/81 [==============================] - 1s 6ms/step - loss: 4.4307e-04 - val_loss: 3.0927e-04\n",
            "Epoch 209/300\n",
            "81/81 [==============================] - 1s 6ms/step - loss: 3.6974e-04 - val_loss: 2.1145e-04\n",
            "Epoch 210/300\n",
            "81/81 [==============================] - 1s 6ms/step - loss: 3.7406e-04 - val_loss: 2.0936e-04\n",
            "Epoch 211/300\n",
            "81/81 [==============================] - 0s 6ms/step - loss: 3.1955e-04 - val_loss: 1.5720e-04\n",
            "Epoch 212/300\n",
            "81/81 [==============================] - 1s 7ms/step - loss: 3.3045e-04 - val_loss: 2.7762e-04\n",
            "Epoch 213/300\n",
            "81/81 [==============================] - 1s 6ms/step - loss: 3.4405e-04 - val_loss: 1.7487e-04\n",
            "Epoch 214/300\n",
            "81/81 [==============================] - 0s 6ms/step - loss: 3.1785e-04 - val_loss: 2.1795e-04\n",
            "Epoch 215/300\n",
            "81/81 [==============================] - 1s 7ms/step - loss: 4.5515e-04 - val_loss: 2.1938e-04\n",
            "Epoch 216/300\n",
            "81/81 [==============================] - 1s 6ms/step - loss: 3.2901e-04 - val_loss: 1.9153e-04\n",
            "Epoch 217/300\n",
            "81/81 [==============================] - 1s 6ms/step - loss: 3.2550e-04 - val_loss: 2.6233e-04\n",
            "Epoch 218/300\n",
            "81/81 [==============================] - 1s 7ms/step - loss: 4.9542e-04 - val_loss: 2.4359e-04\n",
            "Epoch 219/300\n",
            "81/81 [==============================] - 0s 6ms/step - loss: 3.5637e-04 - val_loss: 1.4829e-04\n",
            "Epoch 220/300\n",
            "81/81 [==============================] - 1s 6ms/step - loss: 2.8276e-04 - val_loss: 2.1752e-04\n",
            "Epoch 221/300\n",
            "81/81 [==============================] - 1s 6ms/step - loss: 3.6862e-04 - val_loss: 3.3538e-04\n",
            "Epoch 222/300\n",
            "81/81 [==============================] - 1s 6ms/step - loss: 3.3200e-04 - val_loss: 2.1882e-04\n",
            "Epoch 223/300\n",
            "81/81 [==============================] - 1s 6ms/step - loss: 3.8774e-04 - val_loss: 2.3808e-04\n",
            "Epoch 224/300\n",
            "81/81 [==============================] - 0s 6ms/step - loss: 5.4313e-04 - val_loss: 1.8718e-04\n",
            "Epoch 225/300\n",
            "81/81 [==============================] - 0s 6ms/step - loss: 4.1193e-04 - val_loss: 2.1975e-04\n",
            "Epoch 226/300\n",
            "81/81 [==============================] - 0s 6ms/step - loss: 3.3928e-04 - val_loss: 1.8623e-04\n",
            "Epoch 227/300\n",
            "81/81 [==============================] - 0s 6ms/step - loss: 3.1846e-04 - val_loss: 1.4062e-04\n",
            "Epoch 228/300\n",
            "81/81 [==============================] - 0s 6ms/step - loss: 3.6178e-04 - val_loss: 1.6377e-04\n",
            "Epoch 229/300\n",
            "81/81 [==============================] - 1s 6ms/step - loss: 3.4201e-04 - val_loss: 1.8211e-04\n",
            "Epoch 230/300\n",
            "81/81 [==============================] - 0s 6ms/step - loss: 4.4999e-04 - val_loss: 2.8558e-04\n",
            "Epoch 231/300\n",
            "81/81 [==============================] - 1s 6ms/step - loss: 3.9050e-04 - val_loss: 1.8009e-04\n",
            "Epoch 232/300\n",
            "81/81 [==============================] - 1s 6ms/step - loss: 3.2193e-04 - val_loss: 1.7274e-04\n",
            "Epoch 233/300\n",
            "81/81 [==============================] - 0s 6ms/step - loss: 3.1099e-04 - val_loss: 1.9791e-04\n",
            "Epoch 234/300\n",
            "81/81 [==============================] - 0s 6ms/step - loss: 3.4450e-04 - val_loss: 3.3851e-04\n",
            "Epoch 235/300\n",
            "81/81 [==============================] - 1s 6ms/step - loss: 4.1061e-04 - val_loss: 1.8793e-04\n",
            "Epoch 236/300\n",
            "81/81 [==============================] - 1s 6ms/step - loss: 3.1581e-04 - val_loss: 2.4037e-04\n",
            "Epoch 237/300\n",
            "81/81 [==============================] - 0s 6ms/step - loss: 4.1866e-04 - val_loss: 1.6320e-04\n",
            "Epoch 238/300\n",
            "81/81 [==============================] - 0s 6ms/step - loss: 3.1219e-04 - val_loss: 1.5696e-04\n",
            "Epoch 239/300\n",
            "81/81 [==============================] - 1s 6ms/step - loss: 2.7908e-04 - val_loss: 1.9963e-04\n",
            "Epoch 240/300\n",
            "81/81 [==============================] - 1s 8ms/step - loss: 3.9236e-04 - val_loss: 2.0946e-04\n",
            "Epoch 241/300\n",
            "81/81 [==============================] - 1s 7ms/step - loss: 4.8615e-04 - val_loss: 3.5664e-04\n",
            "Epoch 242/300\n",
            "81/81 [==============================] - 1s 8ms/step - loss: 3.4035e-04 - val_loss: 1.3443e-04\n",
            "Epoch 243/300\n",
            "81/81 [==============================] - 1s 7ms/step - loss: 2.9923e-04 - val_loss: 1.6864e-04\n",
            "Epoch 244/300\n",
            "81/81 [==============================] - 1s 7ms/step - loss: 3.1383e-04 - val_loss: 1.6603e-04\n",
            "Epoch 245/300\n",
            "81/81 [==============================] - 0s 6ms/step - loss: 3.1382e-04 - val_loss: 1.9204e-04\n",
            "Epoch 246/300\n",
            "81/81 [==============================] - 1s 10ms/step - loss: 2.8856e-04 - val_loss: 1.7784e-04\n",
            "Epoch 247/300\n",
            "81/81 [==============================] - 1s 6ms/step - loss: 3.0432e-04 - val_loss: 2.3949e-04\n",
            "Epoch 248/300\n",
            "81/81 [==============================] - 1s 10ms/step - loss: 4.1898e-04 - val_loss: 1.6629e-04\n",
            "Epoch 249/300\n",
            "81/81 [==============================] - 1s 9ms/step - loss: 3.3337e-04 - val_loss: 2.1250e-04\n",
            "Epoch 250/300\n",
            "81/81 [==============================] - 1s 7ms/step - loss: 5.0326e-04 - val_loss: 1.7139e-04\n",
            "Epoch 251/300\n",
            "81/81 [==============================] - 1s 6ms/step - loss: 2.8076e-04 - val_loss: 1.6061e-04\n",
            "Epoch 252/300\n",
            "81/81 [==============================] - 1s 6ms/step - loss: 3.2659e-04 - val_loss: 2.3252e-04\n",
            "Epoch 253/300\n",
            "81/81 [==============================] - 0s 6ms/step - loss: 3.2765e-04 - val_loss: 1.9362e-04\n",
            "Epoch 254/300\n",
            "81/81 [==============================] - 1s 6ms/step - loss: 3.8798e-04 - val_loss: 1.7874e-04\n",
            "Epoch 255/300\n",
            "81/81 [==============================] - 1s 6ms/step - loss: 3.2176e-04 - val_loss: 1.8033e-04\n",
            "Epoch 256/300\n",
            "81/81 [==============================] - 1s 6ms/step - loss: 3.7745e-04 - val_loss: 1.6027e-04\n",
            "Epoch 257/300\n",
            "81/81 [==============================] - 0s 6ms/step - loss: 3.8535e-04 - val_loss: 2.7357e-04\n",
            "Epoch 258/300\n",
            "81/81 [==============================] - 1s 6ms/step - loss: 3.8866e-04 - val_loss: 1.8397e-04\n",
            "Epoch 259/300\n",
            "81/81 [==============================] - 1s 7ms/step - loss: 2.8518e-04 - val_loss: 2.1954e-04\n",
            "Epoch 260/300\n",
            "81/81 [==============================] - 1s 7ms/step - loss: 4.3125e-04 - val_loss: 2.1566e-04\n",
            "Epoch 261/300\n",
            "81/81 [==============================] - 1s 6ms/step - loss: 2.9265e-04 - val_loss: 2.5332e-04\n",
            "Epoch 262/300\n",
            "81/81 [==============================] - 0s 6ms/step - loss: 3.7698e-04 - val_loss: 2.7789e-04\n",
            "Epoch 263/300\n",
            "81/81 [==============================] - 1s 6ms/step - loss: 3.6150e-04 - val_loss: 2.3183e-04\n",
            "Epoch 264/300\n",
            "81/81 [==============================] - 1s 6ms/step - loss: 3.3132e-04 - val_loss: 1.5824e-04\n",
            "Epoch 265/300\n",
            "81/81 [==============================] - 1s 7ms/step - loss: 3.2864e-04 - val_loss: 1.6068e-04\n",
            "Epoch 266/300\n",
            "81/81 [==============================] - 1s 7ms/step - loss: 2.6985e-04 - val_loss: 1.8938e-04\n",
            "Epoch 267/300\n",
            "81/81 [==============================] - 1s 6ms/step - loss: 3.2755e-04 - val_loss: 1.6449e-04\n",
            "Epoch 268/300\n",
            "81/81 [==============================] - 0s 6ms/step - loss: 2.8282e-04 - val_loss: 2.4611e-04\n",
            "Epoch 269/300\n",
            "81/81 [==============================] - 0s 6ms/step - loss: 2.9157e-04 - val_loss: 1.9740e-04\n",
            "Epoch 270/300\n",
            "81/81 [==============================] - 0s 6ms/step - loss: 3.3300e-04 - val_loss: 2.1521e-04\n",
            "Epoch 271/300\n",
            "81/81 [==============================] - 1s 6ms/step - loss: 3.9523e-04 - val_loss: 2.6658e-04\n",
            "Epoch 272/300\n",
            "81/81 [==============================] - 1s 6ms/step - loss: 4.1477e-04 - val_loss: 4.5579e-04\n",
            "Epoch 273/300\n",
            "81/81 [==============================] - 1s 6ms/step - loss: 5.9631e-04 - val_loss: 2.1132e-04\n",
            "Epoch 274/300\n",
            "81/81 [==============================] - 1s 6ms/step - loss: 3.1555e-04 - val_loss: 1.7499e-04\n",
            "Epoch 275/300\n",
            "81/81 [==============================] - 0s 6ms/step - loss: 2.9918e-04 - val_loss: 2.2799e-04\n",
            "Epoch 276/300\n",
            "81/81 [==============================] - 1s 6ms/step - loss: 2.7271e-04 - val_loss: 2.3539e-04\n",
            "Epoch 277/300\n",
            "81/81 [==============================] - 1s 6ms/step - loss: 2.7597e-04 - val_loss: 2.9074e-04\n",
            "Epoch 278/300\n",
            "81/81 [==============================] - 0s 6ms/step - loss: 3.7712e-04 - val_loss: 2.2818e-04\n",
            "Epoch 279/300\n",
            "81/81 [==============================] - 0s 6ms/step - loss: 2.8262e-04 - val_loss: 2.3002e-04\n",
            "Epoch 280/300\n",
            "81/81 [==============================] - 1s 6ms/step - loss: 3.1243e-04 - val_loss: 2.7769e-04\n",
            "Epoch 281/300\n",
            "81/81 [==============================] - 1s 6ms/step - loss: 3.0207e-04 - val_loss: 1.8864e-04\n",
            "Epoch 282/300\n",
            "81/81 [==============================] - 1s 6ms/step - loss: 3.2911e-04 - val_loss: 3.1666e-04\n",
            "Epoch 283/300\n",
            "81/81 [==============================] - 0s 6ms/step - loss: 3.7330e-04 - val_loss: 2.3214e-04\n",
            "Epoch 284/300\n",
            "81/81 [==============================] - 1s 7ms/step - loss: 2.9830e-04 - val_loss: 2.0384e-04\n",
            "Epoch 285/300\n",
            "81/81 [==============================] - 1s 6ms/step - loss: 3.1873e-04 - val_loss: 1.3863e-04\n",
            "Epoch 286/300\n",
            "81/81 [==============================] - 1s 7ms/step - loss: 2.7750e-04 - val_loss: 1.8639e-04\n",
            "Epoch 287/300\n",
            "81/81 [==============================] - 0s 6ms/step - loss: 3.2247e-04 - val_loss: 1.8206e-04\n",
            "Epoch 288/300\n",
            "81/81 [==============================] - 1s 6ms/step - loss: 2.8309e-04 - val_loss: 2.5945e-04\n",
            "Epoch 289/300\n",
            "81/81 [==============================] - 1s 7ms/step - loss: 2.8620e-04 - val_loss: 2.4309e-04\n",
            "Epoch 290/300\n",
            "81/81 [==============================] - 1s 6ms/step - loss: 4.5315e-04 - val_loss: 2.6892e-04\n",
            "Epoch 291/300\n",
            "81/81 [==============================] - 0s 6ms/step - loss: 3.5103e-04 - val_loss: 1.6253e-04\n",
            "Epoch 292/300\n",
            "81/81 [==============================] - 0s 6ms/step - loss: 2.8518e-04 - val_loss: 1.9416e-04\n",
            "Epoch 293/300\n",
            "81/81 [==============================] - 1s 6ms/step - loss: 3.3540e-04 - val_loss: 1.9723e-04\n",
            "Epoch 294/300\n",
            "81/81 [==============================] - 1s 6ms/step - loss: 3.4809e-04 - val_loss: 2.7692e-04\n",
            "Epoch 295/300\n",
            "81/81 [==============================] - 1s 6ms/step - loss: 3.5730e-04 - val_loss: 2.0164e-04\n",
            "Epoch 296/300\n",
            "81/81 [==============================] - 1s 7ms/step - loss: 3.1592e-04 - val_loss: 2.2185e-04\n",
            "Epoch 297/300\n",
            "81/81 [==============================] - 1s 6ms/step - loss: 2.8553e-04 - val_loss: 1.3417e-04\n",
            "Epoch 298/300\n",
            "81/81 [==============================] - 1s 7ms/step - loss: 2.6793e-04 - val_loss: 2.8010e-04\n",
            "Epoch 299/300\n",
            "81/81 [==============================] - 1s 8ms/step - loss: 3.2249e-04 - val_loss: 5.6651e-04\n",
            "Epoch 300/300\n",
            "81/81 [==============================] - 1s 6ms/step - loss: 4.6705e-04 - val_loss: 1.8964e-04\n"
          ]
        }
      ],
      "source": [
        "history = model.fit(x=X_train,y=y_train,epochs=300,validation_data=(X_val,y_val))"
      ]
    },
    {
      "cell_type": "code",
      "execution_count": null,
      "id": "27b6b76b",
      "metadata": {
        "id": "27b6b76b",
        "colab": {
          "base_uri": "https://localhost:8080/",
          "height": 282
        },
        "outputId": "5e08a240-4755-4923-97f1-114540661d33"
      },
      "outputs": [
        {
          "output_type": "execute_result",
          "data": {
            "text/plain": [
              "<matplotlib.axes._subplots.AxesSubplot at 0x7feb6de0dfd0>"
            ]
          },
          "metadata": {},
          "execution_count": 20
        },
        {
          "output_type": "display_data",
          "data": {
            "text/plain": [
              "<Figure size 432x288 with 1 Axes>"
            ],
            "image/png": "[encoded data removed]"
          },
          "metadata": {
            "needs_background": "light"
          }
        }
      ],
      "source": [
        "losses = pd.DataFrame(model.history.history)\n",
        "losses.plot()"
      ]
    },
    {
      "cell_type": "code",
      "execution_count": null,
      "id": "0793fa0b",
      "metadata": {
        "id": "0793fa0b"
      },
      "outputs": [],
      "source": [
        "y_pred = model.predict(X_test)"
      ]
    },
    {
      "cell_type": "code",
      "execution_count": null,
      "id": "635305af",
      "metadata": {
        "id": "635305af",
        "colab": {
          "base_uri": "https://localhost:8080/"
        },
        "outputId": "464e4050-667c-4267-d957-883fb7af1aa2"
      },
      "outputs": [
        {
          "output_type": "execute_result",
          "data": {
            "text/plain": [
              "array([[0.233151],\n",
              "       [0.196549],\n",
              "       [0.241419],\n",
              "       [0.32381 ],\n",
              "       [0.25732 ],\n",
              "       [0.150419],\n",
              "       [0.244663],\n",
              "       [0.244954]])"
            ]
          },
          "metadata": {},
          "execution_count": 22
        }
      ],
      "source": [
        "y_test[20:28] #actual values"
      ]
    },
    {
      "cell_type": "code",
      "execution_count": null,
      "id": "86200e88",
      "metadata": {
        "id": "86200e88",
        "colab": {
          "base_uri": "https://localhost:8080/"
        },
        "outputId": "128dacc0-f91b-4979-e2f7-b4dcca215af5"
      },
      "outputs": [
        {
          "output_type": "execute_result",
          "data": {
            "text/plain": [
              "array([[0.23038526],\n",
              "       [0.19801266],\n",
              "       [0.2467664 ],\n",
              "       [0.3261724 ],\n",
              "       [0.2654072 ],\n",
              "       [0.15177236],\n",
              "       [0.25368863],\n",
              "       [0.24693394]], dtype=float32)"
            ]
          },
          "metadata": {},
          "execution_count": 23
        }
      ],
      "source": [
        "y_pred[20:28] #predicted values"
      ]
    },
    {
      "cell_type": "code",
      "execution_count": null,
      "id": "33d9bdb5",
      "metadata": {
        "id": "33d9bdb5"
      },
      "outputs": [],
      "source": [
        "from sklearn.metrics import mean_squared_error\n",
        "from sklearn.metrics import r2_score\n",
        "from sklearn.metrics import mean_absolute_error"
      ]
    },
    {
      "cell_type": "code",
      "source": [
        "r2 = r2_score(y_test,y_pred)\n",
        "print(f\"R2 score \",r2)\n",
        "print(f\"Mean sqaured errror {mean_squared_error(y_test,y_pred)}\")\n",
        "print(\"RMSE \",np.log(np.sqrt(mean_squared_error(y_test,y_pred))))\n",
        "print(\"MAE \",mean_absolute_error(y_test,y_pred))\n",
        "\n",
        "print(f\"Y_test mean {y_test.mean()}\")\n",
        "print(f\"Y_pred mean {y_pred.mean()}\")"
      ],
      "metadata": {
        "id": "1W_1HavwuDws",
        "colab": {
          "base_uri": "https://localhost:8080/"
        },
        "outputId": "32e6d48c-9d8f-4963-de83-311f30646c14"
      },
      "id": "1W_1HavwuDws",
      "execution_count": null,
      "outputs": [
        {
          "output_type": "stream",
          "name": "stdout",
          "text": [
            "R2 score  0.9782175238732959\n",
            "Mean sqaured errror 0.0002777048180822012\n",
            "RMSE  -4.094475906924059\n",
            "MAE  0.010072722093608107\n",
            "Y_test mean 0.2917743345510836\n",
            "Y_pred mean 0.29497018456459045\n"
          ]
        }
      ]
    },
    {
      "cell_type": "code",
      "source": [
        "# Save the entire model as a SavedModel.\n",
        "path = '/content/drive/MyDrive/Colab Notebooks/saved model/cf_model_v1.h5'\n",
        "# new_model = model.save(path) \n",
        "new_model_loaded = tf.keras.models.load_model(path)\n",
        "\n",
        "# Check its architecture\n",
        "new_model_loaded.summary()"
      ],
      "metadata": {
        "id": "Fw5kX3ymvKJM",
        "colab": {
          "base_uri": "https://localhost:8080/"
        },
        "outputId": "f70cb32e-f1c5-4113-8784-8d1d33765304"
      },
      "id": "Fw5kX3ymvKJM",
      "execution_count": null,
      "outputs": [
        {
          "output_type": "stream",
          "name": "stdout",
          "text": [
            "Model: \"sequential\"\n",
            "_________________________________________________________________\n",
            " Layer (type)                Output Shape              Param #   \n",
            "=================================================================\n",
            " dense (Dense)               (None, 512)               2048      \n",
            "                                                                 \n",
            " dense_1 (Dense)             (None, 512)               262656    \n",
            "                                                                 \n",
            " dense_2 (Dense)             (None, 512)               262656    \n",
            "                                                                 \n",
            " dense_3 (Dense)             (None, 1)                 513       \n",
            "                                                                 \n",
            "=================================================================\n",
            "Total params: 527,873\n",
            "Trainable params: 527,873\n",
            "Non-trainable params: 0\n",
            "_________________________________________________________________\n"
          ]
        }
      ]
    },
    {
      "cell_type": "code",
      "source": [
        "test_df = pd.read_csv('/content/test data for prediction.csv')"
      ],
      "metadata": {
        "id": "Ii-iqKMLo1SZ"
      },
      "id": "Ii-iqKMLo1SZ",
      "execution_count": null,
      "outputs": []
    },
    {
      "cell_type": "code",
      "source": [
        "test_df.describe()"
      ],
      "metadata": {
        "colab": {
          "base_uri": "https://localhost:8080/",
          "height": 300
        },
        "id": "d9wvtohHsvrJ",
        "outputId": "c98a398e-dee2-4700-a5ca-843f05dc2727"
      },
      "id": "d9wvtohHsvrJ",
      "execution_count": null,
      "outputs": [
        {
          "output_type": "execute_result",
          "data": {
            "text/plain": [
              "             speed       load        time\n",
              "count    10.000000  10.000000   10.000000\n",
              "mean    750.000000   8.500000  501.460930\n",
              "std     263.523138   4.116363  269.070694\n",
              "min     500.000000   5.000000   83.305300\n",
              "25%     500.000000   5.000000  315.768250\n",
              "50%     750.000000   7.500000  481.900000\n",
              "75%    1000.000000  10.000000  740.717500\n",
              "max    1000.000000  15.000000  853.218000"
            ],
            "text/html": [
              "\n",
              "  <div id=\"df-77b10ffa-5aed-48f5-ac8d-96b7539fa4af\">\n",
              "    <div class=\"colab-df-container\">\n",
              "      <div>\n",
              "<style scoped>\n",
              "    .dataframe tbody tr th:only-of-type {\n",
              "        vertical-align: middle;\n",
              "    }\n",
              "\n",
              "    .dataframe tbody tr th {\n",
              "        vertical-align: top;\n",
              "    }\n",
              "\n",
              "    .dataframe thead th {\n",
              "        text-align: right;\n",
              "    }\n",
              "</style>\n",
              "<table border=\"1\" class=\"dataframe\">\n",
              "  <thead>\n",
              "    <tr style=\"text-align: right;\">\n",
              "      <th></th>\n",
              "      <th>speed</th>\n",
              "      <th>load</th>\n",
              "      <th>time</th>\n",
              "    </tr>\n",
              "  </thead>\n",
              "  <tbody>\n",
              "    <tr>\n",
              "      <th>count</th>\n",
              "      <td>10.000000</td>\n",
              "      <td>10.000000</td>\n",
              "      <td>10.000000</td>\n",
              "    </tr>\n",
              "    <tr>\n",
              "      <th>mean</th>\n",
              "      <td>750.000000</td>\n",
              "      <td>8.500000</td>\n",
              "      <td>501.460930</td>\n",
              "    </tr>\n",
              "    <tr>\n",
              "      <th>std</th>\n",
              "      <td>263.523138</td>\n",
              "      <td>4.116363</td>\n",
              "      <td>269.070694</td>\n",
              "    </tr>\n",
              "    <tr>\n",
              "      <th>min</th>\n",
              "      <td>500.000000</td>\n",
              "      <td>5.000000</td>\n",
              "      <td>83.305300</td>\n",
              "    </tr>\n",
              "    <tr>\n",
              "      <th>25%</th>\n",
              "      <td>500.000000</td>\n",
              "      <td>5.000000</td>\n",
              "      <td>315.768250</td>\n",
              "    </tr>\n",
              "    <tr>\n",
              "      <th>50%</th>\n",
              "      <td>750.000000</td>\n",
              "      <td>7.500000</td>\n",
              "      <td>481.900000</td>\n",
              "    </tr>\n",
              "    <tr>\n",
              "      <th>75%</th>\n",
              "      <td>1000.000000</td>\n",
              "      <td>10.000000</td>\n",
              "      <td>740.717500</td>\n",
              "    </tr>\n",
              "    <tr>\n",
              "      <th>max</th>\n",
              "      <td>1000.000000</td>\n",
              "      <td>15.000000</td>\n",
              "      <td>853.218000</td>\n",
              "    </tr>\n",
              "  </tbody>\n",
              "</table>\n",
              "</div>\n",
              "      <button class=\"colab-df-convert\" onclick=\"convertToInteractive('df-77b10ffa-5aed-48f5-ac8d-96b7539fa4af')\"\n",
              "              title=\"Convert this dataframe to an interactive table.\"\n",
              "              style=\"display:none;\">\n",
              "        \n",
              "  <svg xmlns=\"http://www.w3.org/2000/svg\" height=\"24px\"viewBox=\"0 0 24 24\"\n",
              "       width=\"24px\">\n",
              "    <path d=\"M0 0h24v24H0V0z\" fill=\"none\"/>\n",
              "    <path d=\"M18.56 5.44l.94 2.06.94-2.06 2.06-.94-2.06-.94-.94-2.06-.94 2.06-2.06.94zm-11 1L8.5 8.5l.94-2.06 2.06-.94-2.06-.94L8.5 2.5l-.94 2.06-2.06.94zm10 10l.94 2.06.94-2.06 2.06-.94-2.06-.94-.94-2.06-.94 2.06-2.06.94z\"/><path d=\"M17.41 7.96l-1.37-1.37c-.4-.4-.92-.59-1.43-.59-.52 0-1.04.2-1.43.59L10.3 9.45l-7.72 7.72c-.78.78-.78 2.05 0 2.83L4 21.41c.39.39.9.59 1.41.59.51 0 1.02-.2 1.41-.59l7.78-7.78 2.81-2.81c.8-.78.8-2.07 0-2.86zM5.41 20L4 18.59l7.72-7.72 1.47 1.35L5.41 20z\"/>\n",
              "  </svg>\n",
              "      </button>\n",
              "      \n",
              "  <style>\n",
              "    .colab-df-container {\n",
              "      display:flex;\n",
              "      flex-wrap:wrap;\n",
              "      gap: 12px;\n",
              "    }\n",
              "\n",
              "    .colab-df-convert {\n",
              "      background-color: #E8F0FE;\n",
              "      border: none;\n",
              "      border-radius: 50%;\n",
              "      cursor: pointer;\n",
              "      display: none;\n",
              "      fill: #1967D2;\n",
              "      height: 32px;\n",
              "      padding: 0 0 0 0;\n",
              "      width: 32px;\n",
              "    }\n",
              "\n",
              "    .colab-df-convert:hover {\n",
              "      background-color: #E2EBFA;\n",
              "      box-shadow: 0px 1px 2px rgba(60, 64, 67, 0.3), 0px 1px 3px 1px rgba(60, 64, 67, 0.15);\n",
              "      fill: #174EA6;\n",
              "    }\n",
              "\n",
              "    [theme=dark] .colab-df-convert {\n",
              "      background-color: #3B4455;\n",
              "      fill: #D2E3FC;\n",
              "    }\n",
              "\n",
              "    [theme=dark] .colab-df-convert:hover {\n",
              "      background-color: #434B5C;\n",
              "      box-shadow: 0px 1px 3px 1px rgba(0, 0, 0, 0.15);\n",
              "      filter: drop-shadow(0px 1px 2px rgba(0, 0, 0, 0.3));\n",
              "      fill: #FFFFFF;\n",
              "    }\n",
              "  </style>\n",
              "\n",
              "      <script>\n",
              "        const buttonEl =\n",
              "          document.querySelector('#df-77b10ffa-5aed-48f5-ac8d-96b7539fa4af button.colab-df-convert');\n",
              "        buttonEl.style.display =\n",
              "          google.colab.kernel.accessAllowed ? 'block' : 'none';\n",
              "\n",
              "        async function convertToInteractive(key) {\n",
              "          const element = document.querySelector('#df-77b10ffa-5aed-48f5-ac8d-96b7539fa4af');\n",
              "          const dataTable =\n",
              "            await google.colab.kernel.invokeFunction('convertToInteractive',\n",
              "                                                     [key], {});\n",
              "          if (!dataTable) return;\n",
              "\n",
              "          const docLinkHtml = 'Like what you see? Visit the ' +\n",
              "            '<a target=\"_blank\" href=https://colab.research.google.com/notebooks/data_table.ipynb>data table notebook</a>'\n",
              "            + ' to learn more about interactive tables.';\n",
              "          element.innerHTML = '';\n",
              "          dataTable['output_type'] = 'display_data';\n",
              "          await google.colab.output.renderOutput(dataTable, element);\n",
              "          const docLink = document.createElement('div');\n",
              "          docLink.innerHTML = docLinkHtml;\n",
              "          element.appendChild(docLink);\n",
              "        }\n",
              "      </script>\n",
              "    </div>\n",
              "  </div>\n",
              "  "
            ]
          },
          "metadata": {},
          "execution_count": 29
        }
      ]
    },
    {
      "cell_type": "code",
      "source": [
        "test_df.shape "
      ],
      "metadata": {
        "colab": {
          "base_uri": "https://localhost:8080/"
        },
        "id": "UvW-AjN_o9yj",
        "outputId": "f9a3e275-d19b-4a07-c94a-b7e74139bcdc"
      },
      "id": "UvW-AjN_o9yj",
      "execution_count": null,
      "outputs": [
        {
          "output_type": "execute_result",
          "data": {
            "text/plain": [
              "(10, 3)"
            ]
          },
          "metadata": {},
          "execution_count": 30
        }
      ]
    },
    {
      "cell_type": "code",
      "source": [
        "# pred_new = np.array([[500,15,583.3]])\n",
        "\n",
        "pred_new = scaler.transform(test_df)\n",
        "new_model_loaded.predict(pred_new).round(4)"
      ],
      "metadata": {
        "id": "hHEWKMGSapFC",
        "colab": {
          "base_uri": "https://localhost:8080/"
        },
        "outputId": "4d4da480-0547-4a11-b7a9-c32a32f6b3e3"
      },
      "id": "hHEWKMGSapFC",
      "execution_count": null,
      "outputs": [
        {
          "output_type": "execute_result",
          "data": {
            "text/plain": [
              "array([[0.2097],\n",
              "       [0.4026],\n",
              "       [0.1731],\n",
              "       [0.2501],\n",
              "       [0.3451],\n",
              "       [0.4097],\n",
              "       [0.3257],\n",
              "       [0.1353],\n",
              "       [0.4882],\n",
              "       [0.4934]], dtype=float32)"
            ]
          },
          "metadata": {},
          "execution_count": 31
        }
      ]
    },
    {
      "cell_type": "code",
      "source": [
        "new_model_loaded.predict([[1000,5,754]])"
      ],
      "metadata": {
        "colab": {
          "base_uri": "https://localhost:8080/"
        },
        "id": "S-BVXV9hiT-T",
        "outputId": "2b45910c-096a-4a35-db41-34f490561ccd"
      },
      "id": "S-BVXV9hiT-T",
      "execution_count": null,
      "outputs": [
        {
          "output_type": "execute_result",
          "data": {
            "text/plain": [
              "array([[148.99721]], dtype=float32)"
            ]
          },
          "metadata": {},
          "execution_count": 32
        }
      ]
    },
    {
      "cell_type": "code",
      "source": [
        "y_pred = new_model_loaded.predict(X_test)"
      ],
      "metadata": {
        "id": "Bje9tRVKjImW"
      },
      "id": "Bje9tRVKjImW",
      "execution_count": null,
      "outputs": []
    },
    {
      "cell_type": "code",
      "source": [
        "r2 = r2_score(y_test,y_pred)\n",
        "print(f\"R2 score \",r2)\n",
        "print(f\"Mean sqaured errror {mean_squared_error(y_test,y_pred)}\")\n",
        "print(\"RMSE \",np.log(np.sqrt(mean_squared_error(y_test,y_pred))))\n",
        "print(\"MAE \",mean_absolute_error(y_test,y_pred))\n",
        "\n",
        "print(f\"Y_test mean {y_test.mean()}\")\n",
        "print(f\"Y_pred mean {y_pred.mean()}\")"
      ],
      "metadata": {
        "colab": {
          "base_uri": "https://localhost:8080/"
        },
        "id": "HLZZJl1f2IFH",
        "outputId": "aba793ef-1a55-4014-be17-2a5bb3f08e0a"
      },
      "id": "HLZZJl1f2IFH",
      "execution_count": null,
      "outputs": [
        {
          "output_type": "stream",
          "name": "stdout",
          "text": [
            "R2 score  0.9821381757169353\n",
            "Mean sqaured errror 0.00022772042233819574\n",
            "RMSE  -4.19369594962249\n",
            "MAE  0.0071219360541814325\n",
            "Y_test mean 0.2917743345510836\n",
            "Y_pred mean 0.2924346625804901\n"
          ]
        }
      ]
    }
  ],
  "metadata": {
    "kernelspec": {
      "display_name": "Python 3 (ipykernel)",
      "language": "python",
      "name": "python3"
    },
    "language_info": {
      "codemirror_mode": {
        "name": "ipython",
        "version": 3
      },
      "file_extension": ".py",
      "mimetype": "text/x-python",
      "name": "python",
      "nbconvert_exporter": "python",
      "pygments_lexer": "ipython3",
      "version": "3.10.5"
    },
    "colab": {
      "provenance": []
    }
  },
  "nbformat": 4,
  "nbformat_minor": 5
}